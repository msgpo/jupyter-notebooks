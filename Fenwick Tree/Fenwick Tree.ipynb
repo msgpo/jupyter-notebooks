{
 "cells": [
  {
   "cell_type": "markdown",
   "metadata": {},
   "source": [
    "# Fenwick Tree\n",
    "\n",
    "![Fenwick tree](fenwick.png)\n",
    "\n",
    "If can precompute total sum of elements before specific point in the sequence, then we can get cumulative sum up to a point by just summing up some specific precomputed sums.\n",
    "\n",
    "Fenwick tree can be used with different configurations:\n",
    "- Point updates and Range queries\n",
    "- Range updates and Point queries\n",
    "- Range updates and Range queries"
   ]
  },
  {
   "cell_type": "markdown",
   "metadata": {},
   "source": [
    "## Point updates and Range queries"
   ]
  },
  {
   "cell_type": "code",
   "execution_count": 10,
   "metadata": {
    "collapsed": true
   },
   "outputs": [],
   "source": [
    "class FenwickTree:\n",
    "    \n",
    "    def __init__(self, max_capacity):\n",
    "        self.data = [0] * (max_capacity + 1)\n",
    "    \n",
    "    def __len__(self):\n",
    "        return len(self.data) - 1\n",
    "\n",
    "    def __getitem__(self, index):\n",
    "        return self._query(index)\n",
    "    \n",
    "    def update(self, index, value):\n",
    "        index += 1\n",
    "        while index < len(self.data):\n",
    "            self.data[index] += value\n",
    "            index += index & (-index)\n",
    "    \n",
    "    def _query(self, end):\n",
    "        result = 0\n",
    "        i = end + 1\n",
    "        while i > 0:\n",
    "            result += self.data[i]\n",
    "            i -= i & (-i)\n",
    "        return result\n",
    "    \n",
    "    def sum(self, end, start=0):\n",
    "        \"\"\"Get sum from start to end, inclusive\"\"\"\n",
    "        result = self._query(end)\n",
    "        if start > 0:\n",
    "            result -= self._query(start - 1)\n",
    "        return result"
   ]
  },
  {
   "cell_type": "code",
   "execution_count": 11,
   "metadata": {},
   "outputs": [
    {
     "name": "stdout",
     "output_type": "stream",
     "text": [
      "sum from 0 up to 5 = 7\n",
      "sum from 6 up to 8 = 0\n"
     ]
    }
   ],
   "source": [
    "tree = FenwickTree(10)\n",
    "tree.update(4, 3)\n",
    "tree.update(2, 4)\n",
    "print('sum from 0 up to 5 =', tree.sum(5))\n",
    "print('sum from 6 up to 8 =', tree.sum(start=6, end=8))"
   ]
  },
  {
   "cell_type": "markdown",
   "metadata": {},
   "source": [
    "## Range updates and Point queries"
   ]
  },
  {
   "cell_type": "code",
   "execution_count": 33,
   "metadata": {
    "collapsed": true
   },
   "outputs": [],
   "source": [
    "class FenwickTree:\n",
    "    \n",
    "    def __init__(self, max_capacity):\n",
    "        self.data = [0] * (max_capacity + 1)\n",
    "    \n",
    "    def __len__(self):\n",
    "        return len(self.data)\n",
    "    \n",
    "    def __getitem__(self, index):\n",
    "        return self.query(index)\n",
    "    \n",
    "    def _update(self, index, value):\n",
    "        index += 1\n",
    "        while index < len(self.data):\n",
    "            self.data[index] += value\n",
    "            index += index & (-index)\n",
    "    \n",
    "    def update(self, start, end, value):\n",
    "        self._update(start, value)\n",
    "        self._update(end + 1, -value)\n",
    "    \n",
    "    def query(self, end):\n",
    "        result = 0\n",
    "        i = end + 1\n",
    "        while i > 0:\n",
    "            result += self.data[i]\n",
    "            i -= i & (-i)\n",
    "        return result"
   ]
  },
  {
   "cell_type": "code",
   "execution_count": 37,
   "metadata": {},
   "outputs": [
    {
     "data": {
      "text/plain": [
       "7"
      ]
     },
     "execution_count": 37,
     "metadata": {},
     "output_type": "execute_result"
    }
   ],
   "source": [
    "tree = FenwickTree(10)\n",
    "tree.update(3, 7, 3)\n",
    "tree.update(5, 8, 4)\n",
    "tree.query(6)"
   ]
  },
  {
   "cell_type": "markdown",
   "metadata": {},
   "source": [
    "## Range updates and Range queries\n",
    "\n",
    "**Case A**: $k < l$\n",
    "\n",
    "![Case A](case_a.png)\n",
    "\n",
    "$$sum = 0 $$\n",
    "\n",
    "** Case B**: $l \\leq k \\leq r$\n",
    "\n",
    "![Case B](case_b.png)\n",
    "\n",
    "$$ sum = val*k - val*(l-1) $$\n",
    "\n",
    "**Case C**: $r < k < n$\n",
    "\n",
    "![Case C](case_c.png)\n",
    "\n",
    "$$\\begin{eqnarray} sum &=& val*r - val*(l-1) \\end{eqnarray}$$"
   ]
  },
  {
   "cell_type": "code",
   "execution_count": 55,
   "metadata": {
    "collapsed": true
   },
   "outputs": [],
   "source": [
    "class FenwickTree:\n",
    "    \n",
    "    def __init__(self, max_capacity):\n",
    "        self.data = [0] * (max_capacity + 1)\n",
    "        self.fix_factors = [0] * (max_capacity + 1)\n",
    "    \n",
    "    def __len__(self):\n",
    "        return len(self.data) - 1\n",
    "    \n",
    "    def __getitem__(self, index):\n",
    "        return 0\n",
    "    \n",
    "    def _update(self, tree, index, value):\n",
    "        index += 1\n",
    "        while index < len(tree):\n",
    "            tree[index] += value\n",
    "            index += index & (-index)\n",
    "    \n",
    "    def update(self, start, end, value):\n",
    "        self._update(self.data, start, value)\n",
    "        self._update(self.data, end + 1, -value)\n",
    "        self._update(self.fix_factors, start, value * (start + 1 - 1))\n",
    "        self._update(self.fix_factors, end + 1, -value * (end + 1))\n",
    "    \n",
    "    def _query(self, tree, end):\n",
    "        result = 0\n",
    "        i = end + 1\n",
    "        while i > 0:\n",
    "            result += tree[i]\n",
    "            i -= i & (-i)\n",
    "        return result\n",
    "    \n",
    "    def _query_cum(self, end):\n",
    "        k = end + 1\n",
    "        return (self._query(self.data, k) * k -\n",
    "                self._query(self.fix_factors, k))\n",
    "    \n",
    "    def query(self, end, start=0):\n",
    "        return self._query_cum(end) - self._query_cum(start - 1)\n",
    "        "
   ]
  },
  {
   "cell_type": "code",
   "execution_count": 66,
   "metadata": {},
   "outputs": [
    {
     "data": {
      "text/plain": [
       "9"
      ]
     },
     "execution_count": 66,
     "metadata": {},
     "output_type": "execute_result"
    }
   ],
   "source": [
    "tree = FenwickTree(10)\n",
    "tree.update(3, 7, 2)\n",
    "tree.update(4, 5, 3)\n",
    "tree.query(8, start=5)"
   ]
  },
  {
   "cell_type": "code",
   "execution_count": null,
   "metadata": {
    "collapsed": true
   },
   "outputs": [],
   "source": []
  }
 ],
 "metadata": {
  "kernelspec": {
   "display_name": "Python 3",
   "language": "python",
   "name": "python3"
  },
  "language_info": {
   "codemirror_mode": {
    "name": "ipython",
    "version": 3
   },
   "file_extension": ".py",
   "mimetype": "text/x-python",
   "name": "python",
   "nbconvert_exporter": "python",
   "pygments_lexer": "ipython3",
   "version": "3.6.1"
  }
 },
 "nbformat": 4,
 "nbformat_minor": 2
}
