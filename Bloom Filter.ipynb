{
 "cells": [
  {
   "cell_type": "markdown",
   "metadata": {},
   "source": [
    "# Bloom filter\n",
    "\n",
    "A Bloom filter is a space-efficient probabilistic data structure, conceived by Burton Howard Bloom in 1970, that is used to test whether an element is a member of a set. False positive matches are possible, but false negatives are not – in other words, a query returns either \"possibly in set\" or \"definitely not in set\". Elements can be added to the set, but not removed (though this can be addressed with a \"counting\" filter); the more elements that are added to the set, the larger the probability of false positives.\n",
    "\n",
    "An empty Bloom filter is a bit array of $m$ bits, all set to 0. There must also be $k$ different hash functions defined, each of which maps or hashes some set element to one of the m array positions, generating a uniform random distribution. Typically, $k$ is a constant, much smaller than $m$, which is proportional to the number of elements to be added; the precise choice of $k$ and the constant of proportionality of $m$ are determined by the intended false positive rate of the filter.\n",
    "\n",
    "To add an element, feed it to each of the $k$ hash functions to get $k$ array positions. Set the bits at all these positions to 1.\n",
    "\n",
    "To query for an element (test whether it is in the set), feed it to each of the $k$ hash functions to get $k$ array positions. If any of the bits at these positions is 0, the element is definitely not in the set – if it were, then all the bits would have been set to 1 when it was inserted. If all are 1, then either the element is in the set, or the bits have by chance been set to 1 during the insertion of other elements, resulting in a false positive. In a simple Bloom filter, there is no way to distinguish between the two cases, but more advanced techniques can address this problem.\n",
    "\n",
    "*Shamelessly copied from [Wikipedia article](https://en.wikipedia.org/wiki/Bloom_filter).*"
   ]
  },
  {
   "cell_type": "markdown",
   "metadata": {},
   "source": [
    "## Analysis\n",
    "\n",
    "Probability that a given bit of the bloom filter has been set to 1 after $n$ insertions\n",
    "\n",
    "$$ P(\\text{bit}=1) = 1 - \\left(1 - \\frac{1}{m}\\right)^{kn}. $$\n",
    "\n",
    "Probability of false positives is\n",
    "\n",
    "$$ \\left(1 - \\left(1 - \\frac{1}{m} \\right) ^ {kn} \\right) ^ k \\approx \\left(1 - e ^ {- \\frac{kn}{m}} \\right) ^ k $$"
   ]
  },
  {
   "cell_type": "markdown",
   "metadata": {},
   "source": [
    "## Optimal number of hash functions\n",
    "\n",
    "Given a number of bits $m$ and a number of values to be inserted $n$, we can compute optimal number of hash functions $k$"
   ]
  },
  {
   "cell_type": "markdown",
   "metadata": {},
   "source": [
    "$$\n",
    "\\begin{align*}\n",
    "\\dfrac{\\mathrm{d}}{\\mathrm{d}k} \\left[ \\left( 1 - e ^ {- \\frac{kn}{m}} \\right) ^ k \\right] &= \\dfrac{\\mathrm{d}}{\\mathrm{d}k} e ^ {\\ln \\left( 1 - e ^ {-\\frac{kn}{m}} \\right) ^ k} \\\\\n",
    "&= \\dfrac{\\mathrm{d}}{\\mathrm{d}k} e ^ {k \\ln \\left( 1 - e ^ {-\\frac{kn}{m}} \\right)} \\\\\n",
    "&= e ^ {k \\ln \\left( 1 - e ^ {-\\frac{kn}{m}} \\right)} \\dfrac{\\mathrm{d}}{\\mathrm{d}k} \\left[ k \\ln \\left( 1 - e ^ {-\\frac{kn}{m}} \\right) \\right] \\\\\n",
    "&= \\left( 1 - e ^ {- \\frac{kn}{m}} \\right) ^ k \\left[ \\ln \\left( 1 - e ^ {-\\frac{kn}{m}} \\right) + \\frac{kn}{m} \\frac{e ^ {-\\frac{kn}{m}}}{\\left(1 - e ^ {-\\frac{kn}{m}} \\right)}  \\right]\n",
    "\\end{align*}\n",
    "$$"
   ]
  },
  {
   "cell_type": "markdown",
   "metadata": {},
   "source": [
    "$$\n",
    "\\begin{align*}\n",
    "\\left( 1 - e ^ {- \\frac{kn}{m}} \\right) ^ k \\left[ \\ln \\left( 1 - e ^ {-\\frac{kn}{m}} \\right) + \\frac{kn}{m} \\frac{e ^ {-\\frac{kn}{m}}}{\\left(1 - e ^ {-\\frac{kn}{m}} \\right)}  \\right] &= 0, \\\\\n",
    "\\ln \\left( 1 - e ^ {-\\frac{kn}{m}} \\right) + \\frac{kn}{m} \\frac{e ^ {-\\frac{kn}{m}}}{\\left(1 - e ^ {-\\frac{kn}{m}} \\right)} &= 0, && \\text{make substitution } b = \\frac{m}{n} \\\\\n",
    "\\ln \\left( 1 - e ^ {- \\frac{k}{b}} \\right) + k \\frac{e ^ {- \\frac{k}{b}}}{b \\left( 1 - e ^ {- \\frac{k}{b}} \\right)} &= 0, && \\text{make substitution } z = e ^ {- \\frac{k}{b}},\\ k = -b \\ln z \\\\\n",
    "\\ln \\left( 1 - y \\right) - \\frac{y \\ln y}{1 - y} &= 0, \\\\\n",
    "\\left( 1 - y \\right) \\ln \\left( 1 - y \\right) &= y \\ln y, \\\\\n",
    "y &= \\frac{1}{2}, \\\\\n",
    "e ^ {- \\frac{k}{b}} &= \\frac{1}{2}, \\\\\n",
    "- \\frac{k}{b} & = \\ln \\frac{1}{2}, \\\\\n",
    "\\frac{k}{b} &= \\ln 2, \\\\\n",
    "k &= b \\ln 2, \\\\\n",
    "k &= \\frac{m}{n} \\ln 2.\n",
    "\\end{align*}\n",
    "$$"
   ]
  },
  {
   "cell_type": "markdown",
   "metadata": {},
   "source": [
    "## Optimal number of bits\n",
    "\n",
    "Given a number of values to be inserted $n$ and a desired false positive probability $p$, we can compute required number of bits $m$\n",
    "\n",
    "$$\n",
    "\\begin{align*}\n",
    "p &= \\left( 1 - e ^ {- \\frac{kn}{m}} \\right) ^ k, \\\\\n",
    "p &= \\left( 1 - e ^ {- \\left( \\frac{n}{m} \\ln 2 \\right) \\frac{m}{n}} \\right) ^ { \\frac{m}{n} \\ln 2}, \\\\\n",
    "\\ln p &= \\ln \\left( 1 - e ^ {- \\left( \\frac{n}{m} \\ln 2 \\right) \\frac{m}{n}} \\right) ^ { \\frac{m}{n} \\ln 2}, \\\\\n",
    "\\ln p &= - \\frac{m}{n} \\left( \\ln 2 \\right) ^ 2, \\\\\n",
    "m &= - \\frac{n \\ln p}{\\left( \\ln 2 \\right) ^ 2}.\n",
    "\\end{align*}\n",
    "$$"
   ]
  },
  {
   "cell_type": "markdown",
   "metadata": {},
   "source": [
    "## Implementation"
   ]
  },
  {
   "cell_type": "code",
   "execution_count": 8,
   "metadata": {},
   "outputs": [
    {
     "name": "stdout",
     "output_type": "stream",
     "text": [
      "Number of bits: 2396265\n",
      "Number of hash functions: 3\n",
      "'hello' maybe present\n",
      "'hi' maybe present\n",
      "'hai' is not present\n",
      "'linux' is not present\n",
      "'python' maybe present\n",
      "'scar' maybe present\n",
      "'scary' maybe present\n",
      "'scarry' is not present\n"
     ]
    }
   ],
   "source": [
    "import math\n",
    "import mmh3\n",
    "\n",
    "from bitarray import bitarray\n",
    "\n",
    "\n",
    "class BloomFilter:\n",
    "\n",
    "    def __init__(self, capacity, error_rate=0.1):\n",
    "        self.capacity = capacity\n",
    "        self.error_rate = error_rate\n",
    "        self.nbits = math.ceil(-capacity * math.log(error_rate) / pow(math.log(2), 2))\n",
    "        self.nhashes = round(math.log(2) * self.nbits / capacity)\n",
    "        self.bits = bitarray(self.nbits)\n",
    "        self.bits.setall(False)\n",
    "        self.size = 0\n",
    "    \n",
    "    def _hashes(self, key):\n",
    "        h1, h2 = mmh3.hash64(key, signed=False)\n",
    "        combined_hash = h1\n",
    "        for _ in range(self.nhashes):\n",
    "            yield combined_hash & 0xffffffffffffffff\n",
    "            combined_hash += h2\n",
    "    \n",
    "    def add(self, key):\n",
    "        for h in self._hashes(key):\n",
    "            self.bits[h % self.nbits] = True\n",
    "        self.size += 1\n",
    "    \n",
    "    def has(self, key):\n",
    "        return all(self.bits[h % self.nbits]\n",
    "                   for h in self._hashes(key))\n",
    "    \n",
    "    def __contains__(self, key):\n",
    "        return self.has(key)\n",
    "    \n",
    "    def __len__(self):\n",
    "        return self.size\n",
    "\n",
    "\n",
    "bf = BloomFilter(capacity=500000, error_rate=0.1)\n",
    "\n",
    "with open('/usr/share/dict/american-english') as f:\n",
    "    for w in f:\n",
    "        bf.add(w.strip())\n",
    "\n",
    "print(f'Number of bits: {bf.nbits}')\n",
    "print(f'Number of hash functions: {bf.nhashes}')\n",
    "\n",
    "words = (\n",
    "    'hello',\n",
    "    'hi',\n",
    "    'hai',\n",
    "    'linux',\n",
    "    'python',\n",
    "    'scar',\n",
    "    'scary',\n",
    "    'scarry')\n",
    "\n",
    "for w in words:\n",
    "    print('%r' % w, 'maybe present' if w in bf else 'is not present')"
   ]
  },
  {
   "cell_type": "code",
   "execution_count": null,
   "metadata": {},
   "outputs": [],
   "source": []
  }
 ],
 "metadata": {
  "kernelspec": {
   "display_name": "Python 3",
   "language": "python",
   "name": "python3"
  },
  "language_info": {
   "codemirror_mode": {
    "name": "ipython",
    "version": 3
   },
   "file_extension": ".py",
   "mimetype": "text/x-python",
   "name": "python",
   "nbconvert_exporter": "python",
   "pygments_lexer": "ipython3",
   "version": "3.6.4"
  }
 },
 "nbformat": 4,
 "nbformat_minor": 2
}
